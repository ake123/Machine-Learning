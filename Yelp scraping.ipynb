{
 "cells": [
  {
   "cell_type": "markdown",
   "metadata": {},
   "source": [
    "## Web Scraping\n",
    "## Akewak Jeba\n",
    "\n",
    "Scraping data from yelp website"
   ]
  },
  {
   "cell_type": "code",
   "execution_count": 1,
   "metadata": {
    "collapsed": true
   },
   "outputs": [],
   "source": [
    "## all imports\n",
    "from IPython.display import HTML\n",
    "import numpy as np\n",
    "import urllib2\n",
    "import bs4 #this is beautiful soup\n",
    "import time\n",
    "import operator\n",
    "import socket\n",
    "import cPickle\n",
    "import re # regular expressions\n",
    "\n",
    "from pandas import Series\n",
    "import pandas as pd\n",
    "from pandas import DataFrame\n",
    "\n",
    "import matplotlib\n",
    "import matplotlib.pyplot as plt\n",
    "%matplotlib inline\n",
    "\n",
    "import seaborn as sns\n",
    "sns.set_context(\"talk\")\n",
    "sns.set_style(\"white\")\n",
    "\n",
    "#from secret import *"
   ]
  },
  {
   "cell_type": "code",
   "execution_count": 36,
   "metadata": {
    "collapsed": true
   },
   "outputs": [],
   "source": [
    "# Fixed url for restaurant postings \n",
    "#https://www.yelp.com/search?cflt=restaurants&find_loc=Helsinki%2C+Finland\n",
    "url = 'https://www.yelp.com/search?find_loc=helsinki&start=0&sortby=review_count&cflt=restaurants&attrs=GoodForMeal.breakfast,GoodForMeal.brunch,RestaurantsPriceRange2.1,RestaurantsPriceRange2.2'\n",
    "# read the website\n",
    "source = urllib2.urlopen(url).read()\n",
    "# parse html code\n",
    "bs_tree = bs4.BeautifulSoup(source)"
   ]
  },
  {
   "cell_type": "code",
   "execution_count": 37,
   "metadata": {},
   "outputs": [
    {
     "name": "stdout",
     "output_type": "stream",
     "text": [
      "17\n",
      "Search yielded 17 hits.\n",
      "[1, 7]\n",
      "17\n"
     ]
    }
   ],
   "source": [
    "restaurant_count_string = bs_tree.find(\"span\",{\"class\": \"pagination-results-window\"}).contents[0]\n",
    "restaurant_count_string = restaurant_count_string.split()[-1]\n",
    "print restaurant_count_string\n",
    "print(\"Search yielded %s hits.\" % (restaurant_count_string))\n",
    "\n",
    "# note that restaurant_count so far is still a string, \n",
    "# not an integer, and the , separator prevents \n",
    "# us from just casting it to int\n",
    "\n",
    "restaurant_count_digits = [int(d) for d in restaurant_count_string if d.isdigit()]\n",
    "print restaurant_count_digits\n",
    "restaurant_count = np.sum([digit*(10**exponent) for digit, exponent in \n",
    "                    zip(restaurant_count_digits[::-1], range(len(restaurant_count_digits)))])\n",
    "\n",
    "print restaurant_count"
   ]
  },
  {
   "cell_type": "code",
   "execution_count": null,
   "metadata": {
    "collapsed": true,
    "scrolled": true
   },
   "outputs": [],
   "source": [
    "num_pages = int(np.ceil(restaurant_count/10.0))\n",
    "\n",
    "base_url = 'https://www.yelp.com/search?find_loc=helsinki&start=0&sortby=review_count&cflt=restaurants&attrs=GoodForMeal.breakfast,GoodForMeal.brunch,RestaurantsPriceRange2.1,RestaurantsPriceRange2.2'\n",
    "restaurant_links = []\n",
    "for i in range(30): #do range(num_pages) if you want them all\n",
    "    if i%10==0:\n",
    "        print num_pages-i\n",
    "       # https://www.yelp.com/search?cflt=restaurants&find_loc=Helsinki%2C+Finland\n",
    "    url = 'https://www.yelp.com/search?find_loc=helsinki&start=0&sortby=review_count&cflt=restaurants&attrs=GoodForMeal.breakfast,GoodForMeal.brunch,RestaurantsPriceRange2.1,RestaurantsPriceRange2.2' + str(i*10)\n",
    "    html_page = urllib2.urlopen(url).read() \n",
    "    bs_tree = bs4.BeautifulSoup(html_page)\n",
    "    restaurant_link_area = bs_tree.find(id = 'super-container')\n",
    "    restaurant_postings = restaurant_link_area.findAll(\"div\")\n",
    "    restaurant_postings = [rp for rp in restaurant_postings if not rp.get('class') is None \n",
    "                    and ''.join(rp.get('class')) ==\"media-avatar\"]\n",
    "    restaurant_ids = [rp.get('data-hovercard-id') for rp in restaurant_postings]\n",
    "    id_d = bs_tree.findAll(\"a\",{\"class\": \"biz-name js-analytics-click\"})\n",
    "    \n",
    "    #for item in id_d:\n",
    "   #     print item.contents[0].text.split(' ', 1)[0]\n",
    "    for sr in bs_tree.find_all('div', attrs={\"class\":u\"search-result\"}):\n",
    "        \n",
    "        \n",
    "        \n",
    "        name = bs_tree.find('a', attrs={\"class\":u\"biz-name\"})['href']\n",
    "        #catagory = list(sr.find_all('span',attrs={\"class\":u\"category-str-list\"})[0].get_text().split())#[1:20] \n",
    "        catagory = list(sr.find_all('span',attrs={\"class\":u\"category-str-list\"})[0].get_text().split())[:20]           \n",
    "        if (catagory[0] or catagory[1] or catagory[2] or catagory[3] or catagory[4] or catagory[5] or catagory[6]or catagory[7] or catagory[8]or catagory[9] or catagory[10]) == 'Breakfast':\n",
    "            \n",
    "            restaurant_links.append(base_url + name)\n",
    "        if (catagory[0] or catagory[1] or catagory[2] or catagory[3] or catagory[4] or catagory[5] or catagory[6]  or catagory[7] or catagory[8]or catagory[9] or catagory[10]) == 'brunch':\n",
    "            restaurant_links.append(base_url + name)\n",
    "        \n",
    "        print catagory\n",
    "         \n",
    "        \n",
    "            \n",
    "        "
   ]
  },
  {
   "cell_type": "code",
   "execution_count": 40,
   "metadata": {
    "scrolled": false
   },
   "outputs": [
    {
     "name": "stdout",
     "output_type": "stream",
     "text": [
      "We found a lot of restaurants:  300\n"
     ]
    }
   ],
   "source": [
    "print \"We found a lot of restaurants: \", len(restaurant_links)"
   ]
  },
  {
   "cell_type": "code",
   "execution_count": 41,
   "metadata": {
    "collapsed": true
   },
   "outputs": [],
   "source": [
    "with open('restaurant_scraped_links.pkl', 'wb') as f:\n",
    "    cPickle.dump(restaurant_links, f)"
   ]
  },
  {
   "cell_type": "code",
   "execution_count": 33,
   "metadata": {
    "collapsed": true
   },
   "outputs": [],
   "source": [
    "with open('restaurant_scraped_links.pkl', 'r') as f:\n",
    "    restaurant_links = cPickle.load(f)"
   ]
  },
  {
   "cell_type": "code",
   "execution_count": 35,
   "metadata": {},
   "outputs": [
    {
     "name": "stdout",
     "output_type": "stream",
     "text": [
      "[u'Pompier', u'Kuu', u'Bites Vallila', u'Ravintola Talin Kartano']\n",
      "[13, 23, 2, 3]\n",
      "[4.5, 4.5, 4.5, 4.5]\n",
      "[[u'Pompier'], [u'Kuu'], [u'Bites Vallila'], [u'Ravintola Talin Kartano']]\n",
      "                   Pompier\n",
      "0                  Pompier\n",
      "1                      Kuu\n",
      "2            Bites Vallila\n",
      "3  Ravintola Talin Kartano\n",
      "    0\n",
      "0  13\n",
      "1  23\n",
      "2   2\n",
      "3   3\n",
      "     0\n",
      "0  4.5\n",
      "1  4.5\n",
      "2  4.5\n",
      "3  4.5\n",
      "                   Pompier   0    0\n",
      "0                  Pompier  13  4.5\n",
      "1                      Kuu  23  4.5\n",
      "2            Bites Vallila   2  4.5\n",
      "3  Ravintola Talin Kartano   3  4.5\n"
     ]
    }
   ],
   "source": [
    "restaurant_name_list =[]\n",
    "restaurant_review_list=[]\n",
    "rating_list =[]\n",
    "\n",
    "\n",
    "for url in restaurant_links:\n",
    "    url_page = urllib2.urlopen(url).read()\n",
    "    soup = bs4.BeautifulSoup(url_page)\n",
    "    #restaurant_name = soup.find(\"span\",{\"class\": \"indexed-biz-name\"})\n",
    "    restaurant_name = soup.find('a', attrs={\"class\":u\"biz-name js-analytics-click\"}).get_text()\n",
    "    \n",
    "    \n",
    "    restaurant_review = soup.find(\"span\",{\"class\": \"review-count rating-qualifier\"}).get_text()\n",
    "    #ratings = soup.find(\"div\",{\"class\": \"i-stars i-stars--large-4-half rating-very-large\"})['title']\n",
    "    review_count_digits = [int(d) for d in restaurant_review if d.isdigit()]\n",
    "    review_count = np.sum([digit*(10**exponent) for digit, exponent in \n",
    "                    zip(review_count_digits[::-1], range(len(review_count_digits)))])\n",
    "    \n",
    "    rating_count_digits = [int(d) for d in ratings if d.isdigit()]\n",
    "    #print rating_count_digits\n",
    "    rating_count = np.sum([digit*(10**exponent) for digit, exponent in \n",
    "                    zip(rating_count_digits[::-1], range(len(rating_count_digits)))])\n",
    "    \n",
    "    rate_rate = (rating_count)/float(10)\n",
    "    \n",
    "    restaurant_name_list.append(restaurant_name)\n",
    "    restaurant_review_list.append(review_count)\n",
    "    rating_list.append(rate_rate)\n",
    "print restaurant_name_list\n",
    "print restaurant_review_list\n",
    "print rating_list\n",
    "\n",
    "    #print restaurant_name,restaurant_review,ratings\n",
    "    #print type(restaurant_name)\n",
    "data = [x.split(',') for x in restaurant_name_list]\n",
    "print data\n",
    "name = pd.DataFrame(data, columns=data[0])\n",
    "print name\n",
    "review = pd.DataFrame(restaurant_review_list)\n",
    "print review\n",
    "rate = pd.DataFrame(rating_list)\n",
    "print rate\n",
    "#frames = [name, review, rate]\n",
    "result = pd.concat([name, review,rate], axis=1)\n",
    "print result"
   ]
  },
  {
   "cell_type": "code",
   "execution_count": null,
   "metadata": {
    "collapsed": true
   },
   "outputs": [],
   "source": []
  }
 ],
 "metadata": {
  "kernelspec": {
   "display_name": "Python 2",
   "language": "python",
   "name": "python2"
  },
  "language_info": {
   "codemirror_mode": {
    "name": "ipython",
    "version": 2
   },
   "file_extension": ".py",
   "mimetype": "text/x-python",
   "name": "python",
   "nbconvert_exporter": "python",
   "pygments_lexer": "ipython2",
   "version": "2.7.6"
  }
 },
 "nbformat": 4,
 "nbformat_minor": 2
}
